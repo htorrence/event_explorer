{
 "cells": [
  {
   "cell_type": "code",
   "execution_count": 1,
   "metadata": {},
   "outputs": [],
   "source": [
    "import pandas as pd\n",
    "from datetime import datetime, timedelta\n",
    "from explorer import EventExplorer"
   ]
  },
  {
   "cell_type": "code",
   "execution_count": 2,
   "metadata": {},
   "outputs": [],
   "source": [
    "import plotly.graph_objects as go\n",
    "import plotly.express as px\n",
    "from ipywidgets import Output, AppLayout, Box, Dropdown, VBox\n",
    "from functools import partial\n",
    "import json\n",
    "from dataclasses import dataclass, field\n",
    "from typing import Union, List"
   ]
  },
  {
   "cell_type": "code",
   "execution_count": 3,
   "metadata": {},
   "outputs": [],
   "source": [
    "pd.set_option('display.max_rows',1000)\n",
    "pd.set_option('display.max_columns', 1000)"
   ]
  },
  {
   "cell_type": "code",
   "execution_count": 4,
   "metadata": {},
   "outputs": [
    {
     "ename": "FileNotFoundError",
     "evalue": "[Errno 2] No such file or directory: 'parsed_december_page_edits.parquet'",
     "output_type": "error",
     "traceback": [
      "\u001b[0;31m---------------------------------------------------------------------------\u001b[0m",
      "\u001b[0;31mFileNotFoundError\u001b[0m                         Traceback (most recent call last)",
      "Cell \u001b[0;32mIn[4], line 1\u001b[0m\n\u001b[0;32m----> 1\u001b[0m df \u001b[39m=\u001b[39m pd\u001b[39m.\u001b[39;49mread_parquet(\u001b[39m'\u001b[39;49m\u001b[39mparsed_december_page_edits.parquet\u001b[39;49m\u001b[39m'\u001b[39;49m)\n",
      "File \u001b[0;32m~/.pyenv/versions/3.9.15/envs/notebook/lib/python3.9/site-packages/pandas/io/parquet.py:503\u001b[0m, in \u001b[0;36mread_parquet\u001b[0;34m(path, engine, columns, storage_options, use_nullable_dtypes, **kwargs)\u001b[0m\n\u001b[1;32m    456\u001b[0m \u001b[39m\u001b[39m\u001b[39m\"\"\"\u001b[39;00m\n\u001b[1;32m    457\u001b[0m \u001b[39mLoad a parquet object from the file path, returning a DataFrame.\u001b[39;00m\n\u001b[1;32m    458\u001b[0m \n\u001b[0;32m   (...)\u001b[0m\n\u001b[1;32m    499\u001b[0m \u001b[39mDataFrame\u001b[39;00m\n\u001b[1;32m    500\u001b[0m \u001b[39m\"\"\"\u001b[39;00m\n\u001b[1;32m    501\u001b[0m impl \u001b[39m=\u001b[39m get_engine(engine)\n\u001b[0;32m--> 503\u001b[0m \u001b[39mreturn\u001b[39;00m impl\u001b[39m.\u001b[39;49mread(\n\u001b[1;32m    504\u001b[0m     path,\n\u001b[1;32m    505\u001b[0m     columns\u001b[39m=\u001b[39;49mcolumns,\n\u001b[1;32m    506\u001b[0m     storage_options\u001b[39m=\u001b[39;49mstorage_options,\n\u001b[1;32m    507\u001b[0m     use_nullable_dtypes\u001b[39m=\u001b[39;49muse_nullable_dtypes,\n\u001b[1;32m    508\u001b[0m     \u001b[39m*\u001b[39;49m\u001b[39m*\u001b[39;49mkwargs,\n\u001b[1;32m    509\u001b[0m )\n",
      "File \u001b[0;32m~/.pyenv/versions/3.9.15/envs/notebook/lib/python3.9/site-packages/pandas/io/parquet.py:244\u001b[0m, in \u001b[0;36mPyArrowImpl.read\u001b[0;34m(self, path, columns, use_nullable_dtypes, storage_options, **kwargs)\u001b[0m\n\u001b[1;32m    241\u001b[0m \u001b[39mif\u001b[39;00m manager \u001b[39m==\u001b[39m \u001b[39m\"\u001b[39m\u001b[39marray\u001b[39m\u001b[39m\"\u001b[39m:\n\u001b[1;32m    242\u001b[0m     to_pandas_kwargs[\u001b[39m\"\u001b[39m\u001b[39msplit_blocks\u001b[39m\u001b[39m\"\u001b[39m] \u001b[39m=\u001b[39m \u001b[39mTrue\u001b[39;00m  \u001b[39m# type: ignore[assignment]\u001b[39;00m\n\u001b[0;32m--> 244\u001b[0m path_or_handle, handles, kwargs[\u001b[39m\"\u001b[39m\u001b[39mfilesystem\u001b[39m\u001b[39m\"\u001b[39m] \u001b[39m=\u001b[39m _get_path_or_handle(\n\u001b[1;32m    245\u001b[0m     path,\n\u001b[1;32m    246\u001b[0m     kwargs\u001b[39m.\u001b[39;49mpop(\u001b[39m\"\u001b[39;49m\u001b[39mfilesystem\u001b[39;49m\u001b[39m\"\u001b[39;49m, \u001b[39mNone\u001b[39;49;00m),\n\u001b[1;32m    247\u001b[0m     storage_options\u001b[39m=\u001b[39;49mstorage_options,\n\u001b[1;32m    248\u001b[0m     mode\u001b[39m=\u001b[39;49m\u001b[39m\"\u001b[39;49m\u001b[39mrb\u001b[39;49m\u001b[39m\"\u001b[39;49m,\n\u001b[1;32m    249\u001b[0m )\n\u001b[1;32m    250\u001b[0m \u001b[39mtry\u001b[39;00m:\n\u001b[1;32m    251\u001b[0m     result \u001b[39m=\u001b[39m \u001b[39mself\u001b[39m\u001b[39m.\u001b[39mapi\u001b[39m.\u001b[39mparquet\u001b[39m.\u001b[39mread_table(\n\u001b[1;32m    252\u001b[0m         path_or_handle, columns\u001b[39m=\u001b[39mcolumns, \u001b[39m*\u001b[39m\u001b[39m*\u001b[39mkwargs\n\u001b[1;32m    253\u001b[0m     )\u001b[39m.\u001b[39mto_pandas(\u001b[39m*\u001b[39m\u001b[39m*\u001b[39mto_pandas_kwargs)\n",
      "File \u001b[0;32m~/.pyenv/versions/3.9.15/envs/notebook/lib/python3.9/site-packages/pandas/io/parquet.py:102\u001b[0m, in \u001b[0;36m_get_path_or_handle\u001b[0;34m(path, fs, storage_options, mode, is_dir)\u001b[0m\n\u001b[1;32m     92\u001b[0m handles \u001b[39m=\u001b[39m \u001b[39mNone\u001b[39;00m\n\u001b[1;32m     93\u001b[0m \u001b[39mif\u001b[39;00m (\n\u001b[1;32m     94\u001b[0m     \u001b[39mnot\u001b[39;00m fs\n\u001b[1;32m     95\u001b[0m     \u001b[39mand\u001b[39;00m \u001b[39mnot\u001b[39;00m is_dir\n\u001b[0;32m   (...)\u001b[0m\n\u001b[1;32m    100\u001b[0m     \u001b[39m# fsspec resources can also point to directories\u001b[39;00m\n\u001b[1;32m    101\u001b[0m     \u001b[39m# this branch is used for example when reading from non-fsspec URLs\u001b[39;00m\n\u001b[0;32m--> 102\u001b[0m     handles \u001b[39m=\u001b[39m get_handle(\n\u001b[1;32m    103\u001b[0m         path_or_handle, mode, is_text\u001b[39m=\u001b[39;49m\u001b[39mFalse\u001b[39;49;00m, storage_options\u001b[39m=\u001b[39;49mstorage_options\n\u001b[1;32m    104\u001b[0m     )\n\u001b[1;32m    105\u001b[0m     fs \u001b[39m=\u001b[39m \u001b[39mNone\u001b[39;00m\n\u001b[1;32m    106\u001b[0m     path_or_handle \u001b[39m=\u001b[39m handles\u001b[39m.\u001b[39mhandle\n",
      "File \u001b[0;32m~/.pyenv/versions/3.9.15/envs/notebook/lib/python3.9/site-packages/pandas/io/common.py:865\u001b[0m, in \u001b[0;36mget_handle\u001b[0;34m(path_or_buf, mode, encoding, compression, memory_map, is_text, errors, storage_options)\u001b[0m\n\u001b[1;32m    856\u001b[0m         handle \u001b[39m=\u001b[39m \u001b[39mopen\u001b[39m(\n\u001b[1;32m    857\u001b[0m             handle,\n\u001b[1;32m    858\u001b[0m             ioargs\u001b[39m.\u001b[39mmode,\n\u001b[0;32m   (...)\u001b[0m\n\u001b[1;32m    861\u001b[0m             newline\u001b[39m=\u001b[39m\u001b[39m\"\u001b[39m\u001b[39m\"\u001b[39m,\n\u001b[1;32m    862\u001b[0m         )\n\u001b[1;32m    863\u001b[0m     \u001b[39melse\u001b[39;00m:\n\u001b[1;32m    864\u001b[0m         \u001b[39m# Binary mode\u001b[39;00m\n\u001b[0;32m--> 865\u001b[0m         handle \u001b[39m=\u001b[39m \u001b[39mopen\u001b[39;49m(handle, ioargs\u001b[39m.\u001b[39;49mmode)\n\u001b[1;32m    866\u001b[0m     handles\u001b[39m.\u001b[39mappend(handle)\n\u001b[1;32m    868\u001b[0m \u001b[39m# Convert BytesIO or file objects passed with an encoding\u001b[39;00m\n",
      "\u001b[0;31mFileNotFoundError\u001b[0m: [Errno 2] No such file or directory: 'parsed_december_page_edits.parquet'"
     ]
    }
   ],
   "source": [
    "df = pd.read_parquet('parsed_december_page_edits.parquet')"
   ]
  },
  {
   "cell_type": "code",
   "execution_count": null,
   "metadata": {},
   "outputs": [],
   "source": [
    "df['event_name'] = df['event_entity'] + '_' + df['event_type']\n",
    "df = df.loc[:, [\n",
    "    'event_name', \n",
    "    'event_timestamp',\n",
    "    'event_user_text_historical_escaped', \n",
    "    'event_user_is_bot_by_historical_string',\n",
    "    'event_user_revision_count',\n",
    "    'event_user_seconds_since_previous_revision',\n",
    "    'page_id',\n",
    "    'page_title_historical_escaped',\n",
    "    'page_revision_count',\n",
    "    'revision_text_bytes',\n",
    "    'revision_is_identity_reverted',\n",
    "    'revision_seconds_to_identity_revert',\n",
    "    'revision_tags_string'\n",
    "]]"
   ]
  },
  {
   "cell_type": "code",
   "execution_count": 8,
   "metadata": {},
   "outputs": [],
   "source": [
    "df.to_parquet('december_df.parquet')"
   ]
  },
  {
   "cell_type": "code",
   "execution_count": 5,
   "metadata": {},
   "outputs": [],
   "source": [
    "df = pd.read_parquet('../data/december_df.parquet')"
   ]
  },
  {
   "cell_type": "code",
   "execution_count": 6,
   "metadata": {},
   "outputs": [
    {
     "name": "stdout",
     "output_type": "stream",
     "text": [
      "1.44GB\n"
     ]
    }
   ],
   "source": [
    "print(f'{(df.memory_usage(deep=True) * 1e-9).sum().round(2)}GB')"
   ]
  },
  {
   "cell_type": "code",
   "execution_count": 6,
   "metadata": {},
   "outputs": [],
   "source": [
    "ex = EventExplorer(df)"
   ]
  },
  {
   "cell_type": "code",
   "execution_count": 8,
   "metadata": {},
   "outputs": [],
   "source": [
    "#ex.plot_event_volume()"
   ]
  },
  {
   "cell_type": "code",
   "execution_count": 9,
   "metadata": {},
   "outputs": [
    {
     "data": {
      "text/plain": [
       "event_user_text_historical_escaped\n",
       "Ponyo        1547\n",
       "Cyrius          2\n",
       "Liz             2\n",
       "DanCherek       1\n",
       "Fastily         1\n",
       "Sdrqaz          1\n",
       "dtype: int64"
      ]
     },
     "execution_count": 9,
     "metadata": {},
     "output_type": "execute_result"
    }
   ],
   "source": [
    "df[\n",
    "    (df['event_name']=='page_delete')\n",
    "    & (df['event_timestamp'] > datetime(2022, 12, 9, 18))\n",
    "    & (df['event_timestamp'] < datetime(2022, 12, 9, 19))\n",
    "].value_counts('event_user_text_historical_escaped')"
   ]
  },
  {
   "cell_type": "code",
   "execution_count": 10,
   "metadata": {},
   "outputs": [
    {
     "data": {
      "text/plain": [
       "['event_name',\n",
       " 'event_user_text_historical_escaped',\n",
       " 'event_user_is_bot_by_historical_string',\n",
       " 'page_title_historical_escaped',\n",
       " 'revision_is_identity_reverted',\n",
       " 'revision_tags_string']"
      ]
     },
     "execution_count": 10,
     "metadata": {},
     "output_type": "execute_result"
    }
   ],
   "source": [
    "ex.entities"
   ]
  },
  {
   "cell_type": "code",
   "execution_count": 11,
   "metadata": {},
   "outputs": [
    {
     "data": {
      "application/vnd.jupyter.widget-view+json": {
       "model_id": "c20ebc08d87a411b87a62d8e721d0a66",
       "version_major": 2,
       "version_minor": 0
      },
      "text/plain": [
       "FigureWidget({\n",
       "    'data': [{'line': {'color': '#636EFA'},\n",
       "              'marker': {'color': [#636EFA, #636EFA, #636EFA, #636EFA, #636EFA,\n",
       "                                   #636EFA, #636EFA, #636EFA, #636EFA, #636EFA,\n",
       "                                   #636EFA, #636EFA, #636EFA, #636EFA, #636EFA,\n",
       "                                   #636EFA, #636EFA, #636EFA, #636EFA, #636EFA,\n",
       "                                   #636EFA],\n",
       "                         'size': [5, 5, 5, 5, 5, 5, 5, 5, 5, 5, 5, 5, 5, 5, 5, 5,\n",
       "                                  5, 5, 5, 5, 5]},\n",
       "              'mode': 'lines+markers',\n",
       "              'name': 'revision_create',\n",
       "              'type': 'scatter',\n",
       "              'uid': 'a520bc50-6bd0-4185-a6ca-1dab497c52d3',\n",
       "              'x': array([datetime.datetime(2022, 12, 1, 0, 0),\n",
       "                          datetime.datetime(2022, 12, 2, 0, 0),\n",
       "                          datetime.datetime(2022, 12, 3, 0, 0),\n",
       "                          datetime.datetime(2022, 12, 4, 0, 0),\n",
       "                          datetime.datetime(2022, 12, 6, 0, 0),\n",
       "                          datetime.datetime(2022, 12, 9, 0, 0),\n",
       "                          datetime.datetime(2022, 12, 10, 0, 0),\n",
       "                          datetime.datetime(2022, 12, 11, 0, 0),\n",
       "                          datetime.datetime(2022, 12, 12, 0, 0),\n",
       "                          datetime.datetime(2022, 12, 16, 0, 0),\n",
       "                          datetime.datetime(2022, 12, 17, 0, 0),\n",
       "                          datetime.datetime(2022, 12, 18, 0, 0),\n",
       "                          datetime.datetime(2022, 12, 19, 0, 0),\n",
       "                          datetime.datetime(2022, 12, 20, 0, 0),\n",
       "                          datetime.datetime(2022, 12, 21, 0, 0),\n",
       "                          datetime.datetime(2022, 12, 24, 0, 0),\n",
       "                          datetime.datetime(2022, 12, 25, 0, 0),\n",
       "                          datetime.datetime(2022, 12, 27, 0, 0),\n",
       "                          datetime.datetime(2022, 12, 28, 0, 0),\n",
       "                          datetime.datetime(2022, 12, 29, 0, 0),\n",
       "                          datetime.datetime(2022, 12, 30, 0, 0)], dtype=object),\n",
       "              'y': array([  22,    1, 3521,    9,    1,  244,  225,   79,    5,   68,  754,  135,\n",
       "                           100,   44,    2,    1,    2,    4,    4,    1,    4])}],\n",
       "    'layout': {'hovermode': 'closest', 'template': '...', 'title': {'text': 'Marcocapelle Events'}}\n",
       "})"
      ]
     },
     "execution_count": 11,
     "metadata": {},
     "output_type": "execute_result"
    }
   ],
   "source": [
    "#TODO: hmm, this is basically just the above for a particular user, maybe it doesn't need to be a different method?\n",
    "\n",
    "\n",
    "ex.explore_entity(entity='event_user_text_historical_escaped', item='Marcocapelle')"
   ]
  },
  {
   "cell_type": "code",
   "execution_count": 12,
   "metadata": {},
   "outputs": [],
   "source": [
    "# sessionize\n",
    "# initial event (or start of session)\n",
    "# final event (or end of session)\n",
    "# include/collapse duplicate events (discussion [here](https://stackoverflow.com/questions/19463985/pandas-drop-consecutive-duplicates))\n",
    "# ignore particular events"
   ]
  },
  {
   "cell_type": "code",
   "execution_count": null,
   "metadata": {},
   "outputs": [],
   "source": [
    "# We can build sessions initially, but we will also be making new sub-sessions after that\n",
    "\n",
    "\n",
    "# 1. filter out anything we don't want, dedup if that's what we want\n",
    "# 2. find first occurance of an event in a session\n",
    "# 3. find next n events"
   ]
  },
  {
   "cell_type": "code",
   "execution_count": 7,
   "metadata": {},
   "outputs": [],
   "source": [
    "first_event = 'page_create' # page_title_historical_escaped\n",
    "last_event = None\n",
    "n_events = 5\n",
    "include_duplicates = True\n",
    "session_length = timedelta(hours=1)\n",
    "ignore_list = ['page_create-page']\n",
    "\n",
    "entity = 'event_user_text_historical_escaped'"
   ]
  },
  {
   "cell_type": "code",
   "execution_count": 65,
   "metadata": {},
   "outputs": [],
   "source": [
    "df = ex.internal_df.loc [:, :] # make a copy"
   ]
  },
  {
   "cell_type": "code",
   "execution_count": 53,
   "metadata": {},
   "outputs": [
    {
     "data": {
      "text/plain": [
       "revision_create     3143510\n",
       "page_create           54949\n",
       "page_create-page      46993\n",
       "page_move             13167\n",
       "page_delete            9507\n",
       "page_restore            306\n",
       "page_merge               35\n",
       "Name: event_name, dtype: int64"
      ]
     },
     "execution_count": 53,
     "metadata": {},
     "output_type": "execute_result"
    }
   ],
   "source": [
    "df['event_name'].value_counts()"
   ]
  },
  {
   "cell_type": "code",
   "execution_count": 8,
   "metadata": {},
   "outputs": [],
   "source": [
    "# initial filtering\n",
    "df = df[df['event_user_is_bot_by_historical_string'].isna()] # remove bots\n",
    "df = df.loc[df[ex.event_name_col].isin(set(ex.event_names) - set(ignore_list)), :] # remove ignored event types\n",
    "#df = df.loc[] # dedup events\n"
   ]
  },
  {
   "cell_type": "code",
   "execution_count": 67,
   "metadata": {},
   "outputs": [],
   "source": [
    "# build sessions\n",
    "\n",
    "df['timediff'] = (\n",
    "    df\n",
    "    .sort_values([entity,  ex.event_time_col])\n",
    "    .groupby(entity)[ex.event_time_col]\n",
    "    .diff() \n",
    ")\n",
    "df['_is_session_start'] = (df['timediff'].isna() | (df['timediff'] > session_length))\n",
    "df['_is_session_end'] = df.sort_values([entity,  ex.event_time_col])[['_is_session_start']].shift(-1)\n",
    "df['_session_id'] = df.sort_values([entity,  ex.event_time_col])['_is_session_start'].cumsum()\n",
    "\n",
    "df.drop(columns=['timediff'], inplace=True)\n",
    "\n",
    "df['_rank'] = df.groupby('_session_id')[ex.event_time_col].rank(method='first')"
   ]
  },
  {
   "cell_type": "code",
   "execution_count": 15,
   "metadata": {},
   "outputs": [],
   "source": [
    "# df[df['_rank'] > 1000]['event_user_text_historical_escaped'].drop_duplicates()"
   ]
  },
  {
   "cell_type": "code",
   "execution_count": 16,
   "metadata": {},
   "outputs": [],
   "source": [
    "#df[(df['event_user_text_historical_escaped'] == 'Marcocapelle') & (df['_session_id'] == 550073)]"
   ]
  },
  {
   "cell_type": "code",
   "execution_count": 68,
   "metadata": {},
   "outputs": [],
   "source": [
    "first_event = 'page_create'"
   ]
  },
  {
   "cell_type": "code",
   "execution_count": 154,
   "metadata": {},
   "outputs": [],
   "source": [
    "def make_sankey(\n",
    "    df, \n",
    "    entity='event_user_text_historical_escaped',\n",
    "    first_event=None,\n",
    "    last_event=None,\n",
    "    n_events=5,\n",
    "    session_length=timedelta(hours=2),\n",
    "    remove_bots=True,\n",
    "    include_duplicates=True,\n",
    "    ignore_list=[],\n",
    "):  # TODO: turn session start and session end into events themselves\n",
    "    \n",
    "    # check params\n",
    "    if first_event is not None and last_event is not None:\n",
    "        raise ValueError('pass in either first or last event, not both')\n",
    "    \n",
    "    if first_event is None and last_event is None:\n",
    "        raise ValueError('either first or last event is required')\n",
    "\n",
    "    if first_event is not None:\n",
    "        key_event = first_event\n",
    "        shift_direction = 1\n",
    "    \n",
    "    if last_event is not None:\n",
    "        raise(NotImplementedError)\n",
    "        key_event = last_event\n",
    "        shift_direction = -1\n",
    "\n",
    "\n",
    "    # initial filtering\n",
    "    if remove_bots:\n",
    "        df = df[df['event_user_is_bot_by_historical_string'].isna()] # remove bots\n",
    "\n",
    "    if not include_duplicates:\n",
    "        raise NotImplementedError\n",
    "    \n",
    "    if len(ignore_list) > 0:\n",
    "        df = df.loc[df[ex.event_name_col].isin(set(ex.event_names) - set(ignore_list)), :] # remove ignored event types\n",
    "\n",
    "\n",
    "    # build sessions\n",
    "    df['timediff'] = (\n",
    "        df\n",
    "        .sort_values([entity,  ex.event_time_col])\n",
    "        .groupby(entity)[ex.event_time_col]\n",
    "        .diff() \n",
    "    )\n",
    "    df['_is_session_start'] = (df['timediff'].isna() | (df['timediff'] > session_length))\n",
    "    df['_is_session_end'] = df.sort_values([entity,  ex.event_time_col])[['_is_session_start']].shift(-1)\n",
    "    df['_session_id'] = df.sort_values([entity,  ex.event_time_col])['_is_session_start'].cumsum()\n",
    "    df.drop(columns=['timediff'], inplace=True)\n",
    "    df['_rank'] = df.groupby('_session_id')[ex.event_time_col].rank(method='first')\n",
    "    \n",
    "\n",
    "    # select events to include\n",
    "\n",
    "    key_events = df.loc[df['event_name'] == key_event, ['_session_id', '_rank']].groupby('_session_id', as_index=False).min()\n",
    "    key_events['_key_event'] = 1\n",
    "    rnk_increment = pd.DataFrame({'rank_increment': range(n_events)})\n",
    "    selected_events = key_events.merge(rnk_increment, how='cross')\n",
    "    selected_events['_rank'] = selected_events['_rank'] + selected_events['rank_increment']\n",
    "    selected_events.drop(columns=['_key_event'], inplace=True)\n",
    "    events_to_plot = df.merge(selected_events, on=['_session_id', '_rank'], how='inner', suffixes=None)\n",
    "    \n",
    "\n",
    "    # format events for plotting\n",
    "\n",
    "    final_df = events_to_plot[['_session_id', ex.event_name_col, 'rank_increment']]\n",
    "\n",
    "    paired_events = pd.concat([\n",
    "        final_df, \n",
    "        final_df\n",
    "        .shift(-1 * shift_direction)\n",
    "        .rename(columns={'_session_id': 'next_session_id', ex.event_name_col: f'next_{ex.event_name_col}', 'rank_increment': 'next_rank_increment'})\n",
    "        ], axis=1\n",
    "    )\n",
    "    to_plot = (\n",
    "        paired_events[paired_events['_session_id'] == paired_events['next_session_id']]\n",
    "        [['rank_increment', ex.event_name_col, f'next_{ex.event_name_col}', 'next_rank_increment']]\n",
    "        .groupby(['rank_increment', ex.event_name_col, f'next_{ex.event_name_col}'], as_index=False)\n",
    "        .count()\n",
    "        .rename(columns={'next_rank_increment': 'count'})\n",
    "    )\n",
    "\n",
    "    to_plot['source'] = to_plot['rank_increment'].astype(str) + '_' + to_plot['event_name']\n",
    "    to_plot['target'] = (to_plot['rank_increment'] + 1).astype(str) + '_' + to_plot['next_event_name']\n",
    "\n",
    "\n",
    "    nodes = set(to_plot['source']).union(to_plot['target'])\n",
    "    node_ind_dict = {k:v for k, v in zip(nodes, range(len(nodes)))}\n",
    "    to_plot_indices = to_plot[['source', 'target', 'count']].replace(node_ind_dict)\n",
    "\n",
    "\n",
    "    # plot\n",
    "\n",
    "    flow = go.Sankey(\n",
    "        node=dict(\n",
    "            pad = 15,\n",
    "            thickness = 20,\n",
    "            line = dict(color = 'blue', width = 0.5),\n",
    "            label = list(node_ind_dict.keys()),\n",
    "            color = 'purple'\n",
    "        ),\n",
    "        link=dict(\n",
    "            source = to_plot_indices['source'].to_list(),  \n",
    "            target = to_plot_indices['target'].to_list(),\n",
    "            value = to_plot_indices['count'].to_list()\n",
    "    ))\n",
    "\n",
    "    fig = go.Figure()\n",
    "    fig.add_trace(flow)\n",
    "    fig.update_layout(title_text=\"Basic Sankey Diagram\", font_size=10)\n",
    "\n",
    "    return fig\n",
    "\n"
   ]
  },
  {
   "cell_type": "code",
   "execution_count": 156,
   "metadata": {},
   "outputs": [
    {
     "data": {
      "text/plain": [
       "['event_name',\n",
       " 'event_user_text_historical_escaped',\n",
       " 'event_user_is_bot_by_historical_string',\n",
       " 'page_title_historical_escaped',\n",
       " 'revision_is_identity_reverted',\n",
       " 'revision_tags_string']"
      ]
     },
     "execution_count": 156,
     "metadata": {},
     "output_type": "execute_result"
    }
   ],
   "source": [
    "ex.entities"
   ]
  },
  {
   "cell_type": "code",
   "execution_count": 157,
   "metadata": {},
   "outputs": [
    {
     "name": "stderr",
     "output_type": "stream",
     "text": [
      "/tmp/ipykernel_273018/4095152156.py:63: FutureWarning:\n",
      "\n",
      "Passing 'suffixes' as a <class 'NoneType'>, is not supported and may give unexpected results. Provide 'suffixes' as a tuple instead. In the future a 'TypeError' will be raised.\n",
      "\n"
     ]
    },
    {
     "data": {
      "application/vnd.plotly.v1+json": {
       "config": {
        "plotlyServerURL": "https://plot.ly"
       },
       "data": [
        {
         "link": {
          "source": [
           2,
           2,
           2,
           2,
           2,
           16,
           16,
           3,
           3,
           3,
           3,
           10,
           10,
           10,
           8,
           11,
           11,
           11,
           11,
           12,
           12,
           4,
           4,
           4,
           0,
           0,
           0,
           7,
           15,
           15,
           15,
           15,
           18,
           18,
           18,
           5,
           5,
           5,
           14,
           14,
           14,
           13,
           13,
           13,
           13
          ],
          "target": [
           16,
           3,
           10,
           8,
           11,
           4,
           15,
           12,
           0,
           7,
           15,
           12,
           4,
           15,
           15,
           12,
           4,
           0,
           15,
           5,
           13,
           18,
           14,
           13,
           18,
           5,
           13,
           13,
           18,
           5,
           14,
           13,
           1,
           9,
           6,
           17,
           9,
           6,
           17,
           1,
           6,
           17,
           1,
           9,
           6
          ],
          "value": [
           17,
           75,
           27,
           3,
           26420,
           1,
           48,
           3,
           37,
           1,
           9,
           1,
           7,
           42,
           2,
           69,
           21,
           45,
           1819,
           8,
           70,
           5,
           30,
           26,
           2,
           15,
           54,
           1,
           86,
           22,
           64,
           1208,
           11,
           3,
           51,
           6,
           6,
           17,
           3,
           9,
           52,
           66,
           9,
           72,
           897
          ]
         },
         "node": {
          "color": "purple",
          "label": [
           "2_page_move",
           "4_page_delete",
           "0_page_create",
           "1_page_delete",
           "2_page_delete",
           "3_page_delete",
           "4_revision_create",
           "2_page_restore",
           "1_page_restore",
           "4_page_move",
           "1_page_move",
           "1_revision_create",
           "2_page_create",
           "3_revision_create",
           "3_page_move",
           "2_revision_create",
           "1_page_create",
           "4_page_create",
           "3_page_create"
          ],
          "line": {
           "color": "blue",
           "width": 0.5
          },
          "pad": 15,
          "thickness": 20
         },
         "type": "sankey"
        }
       ],
       "layout": {
        "font": {
         "size": 10
        },
        "template": {
         "data": {
          "bar": [
           {
            "error_x": {
             "color": "#2a3f5f"
            },
            "error_y": {
             "color": "#2a3f5f"
            },
            "marker": {
             "line": {
              "color": "#E5ECF6",
              "width": 0.5
             },
             "pattern": {
              "fillmode": "overlay",
              "size": 10,
              "solidity": 0.2
             }
            },
            "type": "bar"
           }
          ],
          "barpolar": [
           {
            "marker": {
             "line": {
              "color": "#E5ECF6",
              "width": 0.5
             },
             "pattern": {
              "fillmode": "overlay",
              "size": 10,
              "solidity": 0.2
             }
            },
            "type": "barpolar"
           }
          ],
          "carpet": [
           {
            "aaxis": {
             "endlinecolor": "#2a3f5f",
             "gridcolor": "white",
             "linecolor": "white",
             "minorgridcolor": "white",
             "startlinecolor": "#2a3f5f"
            },
            "baxis": {
             "endlinecolor": "#2a3f5f",
             "gridcolor": "white",
             "linecolor": "white",
             "minorgridcolor": "white",
             "startlinecolor": "#2a3f5f"
            },
            "type": "carpet"
           }
          ],
          "choropleth": [
           {
            "colorbar": {
             "outlinewidth": 0,
             "ticks": ""
            },
            "type": "choropleth"
           }
          ],
          "contour": [
           {
            "colorbar": {
             "outlinewidth": 0,
             "ticks": ""
            },
            "colorscale": [
             [
              0,
              "#0d0887"
             ],
             [
              0.1111111111111111,
              "#46039f"
             ],
             [
              0.2222222222222222,
              "#7201a8"
             ],
             [
              0.3333333333333333,
              "#9c179e"
             ],
             [
              0.4444444444444444,
              "#bd3786"
             ],
             [
              0.5555555555555556,
              "#d8576b"
             ],
             [
              0.6666666666666666,
              "#ed7953"
             ],
             [
              0.7777777777777778,
              "#fb9f3a"
             ],
             [
              0.8888888888888888,
              "#fdca26"
             ],
             [
              1,
              "#f0f921"
             ]
            ],
            "type": "contour"
           }
          ],
          "contourcarpet": [
           {
            "colorbar": {
             "outlinewidth": 0,
             "ticks": ""
            },
            "type": "contourcarpet"
           }
          ],
          "heatmap": [
           {
            "colorbar": {
             "outlinewidth": 0,
             "ticks": ""
            },
            "colorscale": [
             [
              0,
              "#0d0887"
             ],
             [
              0.1111111111111111,
              "#46039f"
             ],
             [
              0.2222222222222222,
              "#7201a8"
             ],
             [
              0.3333333333333333,
              "#9c179e"
             ],
             [
              0.4444444444444444,
              "#bd3786"
             ],
             [
              0.5555555555555556,
              "#d8576b"
             ],
             [
              0.6666666666666666,
              "#ed7953"
             ],
             [
              0.7777777777777778,
              "#fb9f3a"
             ],
             [
              0.8888888888888888,
              "#fdca26"
             ],
             [
              1,
              "#f0f921"
             ]
            ],
            "type": "heatmap"
           }
          ],
          "heatmapgl": [
           {
            "colorbar": {
             "outlinewidth": 0,
             "ticks": ""
            },
            "colorscale": [
             [
              0,
              "#0d0887"
             ],
             [
              0.1111111111111111,
              "#46039f"
             ],
             [
              0.2222222222222222,
              "#7201a8"
             ],
             [
              0.3333333333333333,
              "#9c179e"
             ],
             [
              0.4444444444444444,
              "#bd3786"
             ],
             [
              0.5555555555555556,
              "#d8576b"
             ],
             [
              0.6666666666666666,
              "#ed7953"
             ],
             [
              0.7777777777777778,
              "#fb9f3a"
             ],
             [
              0.8888888888888888,
              "#fdca26"
             ],
             [
              1,
              "#f0f921"
             ]
            ],
            "type": "heatmapgl"
           }
          ],
          "histogram": [
           {
            "marker": {
             "pattern": {
              "fillmode": "overlay",
              "size": 10,
              "solidity": 0.2
             }
            },
            "type": "histogram"
           }
          ],
          "histogram2d": [
           {
            "colorbar": {
             "outlinewidth": 0,
             "ticks": ""
            },
            "colorscale": [
             [
              0,
              "#0d0887"
             ],
             [
              0.1111111111111111,
              "#46039f"
             ],
             [
              0.2222222222222222,
              "#7201a8"
             ],
             [
              0.3333333333333333,
              "#9c179e"
             ],
             [
              0.4444444444444444,
              "#bd3786"
             ],
             [
              0.5555555555555556,
              "#d8576b"
             ],
             [
              0.6666666666666666,
              "#ed7953"
             ],
             [
              0.7777777777777778,
              "#fb9f3a"
             ],
             [
              0.8888888888888888,
              "#fdca26"
             ],
             [
              1,
              "#f0f921"
             ]
            ],
            "type": "histogram2d"
           }
          ],
          "histogram2dcontour": [
           {
            "colorbar": {
             "outlinewidth": 0,
             "ticks": ""
            },
            "colorscale": [
             [
              0,
              "#0d0887"
             ],
             [
              0.1111111111111111,
              "#46039f"
             ],
             [
              0.2222222222222222,
              "#7201a8"
             ],
             [
              0.3333333333333333,
              "#9c179e"
             ],
             [
              0.4444444444444444,
              "#bd3786"
             ],
             [
              0.5555555555555556,
              "#d8576b"
             ],
             [
              0.6666666666666666,
              "#ed7953"
             ],
             [
              0.7777777777777778,
              "#fb9f3a"
             ],
             [
              0.8888888888888888,
              "#fdca26"
             ],
             [
              1,
              "#f0f921"
             ]
            ],
            "type": "histogram2dcontour"
           }
          ],
          "mesh3d": [
           {
            "colorbar": {
             "outlinewidth": 0,
             "ticks": ""
            },
            "type": "mesh3d"
           }
          ],
          "parcoords": [
           {
            "line": {
             "colorbar": {
              "outlinewidth": 0,
              "ticks": ""
             }
            },
            "type": "parcoords"
           }
          ],
          "pie": [
           {
            "automargin": true,
            "type": "pie"
           }
          ],
          "scatter": [
           {
            "fillpattern": {
             "fillmode": "overlay",
             "size": 10,
             "solidity": 0.2
            },
            "type": "scatter"
           }
          ],
          "scatter3d": [
           {
            "line": {
             "colorbar": {
              "outlinewidth": 0,
              "ticks": ""
             }
            },
            "marker": {
             "colorbar": {
              "outlinewidth": 0,
              "ticks": ""
             }
            },
            "type": "scatter3d"
           }
          ],
          "scattercarpet": [
           {
            "marker": {
             "colorbar": {
              "outlinewidth": 0,
              "ticks": ""
             }
            },
            "type": "scattercarpet"
           }
          ],
          "scattergeo": [
           {
            "marker": {
             "colorbar": {
              "outlinewidth": 0,
              "ticks": ""
             }
            },
            "type": "scattergeo"
           }
          ],
          "scattergl": [
           {
            "marker": {
             "colorbar": {
              "outlinewidth": 0,
              "ticks": ""
             }
            },
            "type": "scattergl"
           }
          ],
          "scattermapbox": [
           {
            "marker": {
             "colorbar": {
              "outlinewidth": 0,
              "ticks": ""
             }
            },
            "type": "scattermapbox"
           }
          ],
          "scatterpolar": [
           {
            "marker": {
             "colorbar": {
              "outlinewidth": 0,
              "ticks": ""
             }
            },
            "type": "scatterpolar"
           }
          ],
          "scatterpolargl": [
           {
            "marker": {
             "colorbar": {
              "outlinewidth": 0,
              "ticks": ""
             }
            },
            "type": "scatterpolargl"
           }
          ],
          "scatterternary": [
           {
            "marker": {
             "colorbar": {
              "outlinewidth": 0,
              "ticks": ""
             }
            },
            "type": "scatterternary"
           }
          ],
          "surface": [
           {
            "colorbar": {
             "outlinewidth": 0,
             "ticks": ""
            },
            "colorscale": [
             [
              0,
              "#0d0887"
             ],
             [
              0.1111111111111111,
              "#46039f"
             ],
             [
              0.2222222222222222,
              "#7201a8"
             ],
             [
              0.3333333333333333,
              "#9c179e"
             ],
             [
              0.4444444444444444,
              "#bd3786"
             ],
             [
              0.5555555555555556,
              "#d8576b"
             ],
             [
              0.6666666666666666,
              "#ed7953"
             ],
             [
              0.7777777777777778,
              "#fb9f3a"
             ],
             [
              0.8888888888888888,
              "#fdca26"
             ],
             [
              1,
              "#f0f921"
             ]
            ],
            "type": "surface"
           }
          ],
          "table": [
           {
            "cells": {
             "fill": {
              "color": "#EBF0F8"
             },
             "line": {
              "color": "white"
             }
            },
            "header": {
             "fill": {
              "color": "#C8D4E3"
             },
             "line": {
              "color": "white"
             }
            },
            "type": "table"
           }
          ]
         },
         "layout": {
          "annotationdefaults": {
           "arrowcolor": "#2a3f5f",
           "arrowhead": 0,
           "arrowwidth": 1
          },
          "autotypenumbers": "strict",
          "coloraxis": {
           "colorbar": {
            "outlinewidth": 0,
            "ticks": ""
           }
          },
          "colorscale": {
           "diverging": [
            [
             0,
             "#8e0152"
            ],
            [
             0.1,
             "#c51b7d"
            ],
            [
             0.2,
             "#de77ae"
            ],
            [
             0.3,
             "#f1b6da"
            ],
            [
             0.4,
             "#fde0ef"
            ],
            [
             0.5,
             "#f7f7f7"
            ],
            [
             0.6,
             "#e6f5d0"
            ],
            [
             0.7,
             "#b8e186"
            ],
            [
             0.8,
             "#7fbc41"
            ],
            [
             0.9,
             "#4d9221"
            ],
            [
             1,
             "#276419"
            ]
           ],
           "sequential": [
            [
             0,
             "#0d0887"
            ],
            [
             0.1111111111111111,
             "#46039f"
            ],
            [
             0.2222222222222222,
             "#7201a8"
            ],
            [
             0.3333333333333333,
             "#9c179e"
            ],
            [
             0.4444444444444444,
             "#bd3786"
            ],
            [
             0.5555555555555556,
             "#d8576b"
            ],
            [
             0.6666666666666666,
             "#ed7953"
            ],
            [
             0.7777777777777778,
             "#fb9f3a"
            ],
            [
             0.8888888888888888,
             "#fdca26"
            ],
            [
             1,
             "#f0f921"
            ]
           ],
           "sequentialminus": [
            [
             0,
             "#0d0887"
            ],
            [
             0.1111111111111111,
             "#46039f"
            ],
            [
             0.2222222222222222,
             "#7201a8"
            ],
            [
             0.3333333333333333,
             "#9c179e"
            ],
            [
             0.4444444444444444,
             "#bd3786"
            ],
            [
             0.5555555555555556,
             "#d8576b"
            ],
            [
             0.6666666666666666,
             "#ed7953"
            ],
            [
             0.7777777777777778,
             "#fb9f3a"
            ],
            [
             0.8888888888888888,
             "#fdca26"
            ],
            [
             1,
             "#f0f921"
            ]
           ]
          },
          "colorway": [
           "#636efa",
           "#EF553B",
           "#00cc96",
           "#ab63fa",
           "#FFA15A",
           "#19d3f3",
           "#FF6692",
           "#B6E880",
           "#FF97FF",
           "#FECB52"
          ],
          "font": {
           "color": "#2a3f5f"
          },
          "geo": {
           "bgcolor": "white",
           "lakecolor": "white",
           "landcolor": "#E5ECF6",
           "showlakes": true,
           "showland": true,
           "subunitcolor": "white"
          },
          "hoverlabel": {
           "align": "left"
          },
          "hovermode": "closest",
          "mapbox": {
           "style": "light"
          },
          "paper_bgcolor": "white",
          "plot_bgcolor": "#E5ECF6",
          "polar": {
           "angularaxis": {
            "gridcolor": "white",
            "linecolor": "white",
            "ticks": ""
           },
           "bgcolor": "#E5ECF6",
           "radialaxis": {
            "gridcolor": "white",
            "linecolor": "white",
            "ticks": ""
           }
          },
          "scene": {
           "xaxis": {
            "backgroundcolor": "#E5ECF6",
            "gridcolor": "white",
            "gridwidth": 2,
            "linecolor": "white",
            "showbackground": true,
            "ticks": "",
            "zerolinecolor": "white"
           },
           "yaxis": {
            "backgroundcolor": "#E5ECF6",
            "gridcolor": "white",
            "gridwidth": 2,
            "linecolor": "white",
            "showbackground": true,
            "ticks": "",
            "zerolinecolor": "white"
           },
           "zaxis": {
            "backgroundcolor": "#E5ECF6",
            "gridcolor": "white",
            "gridwidth": 2,
            "linecolor": "white",
            "showbackground": true,
            "ticks": "",
            "zerolinecolor": "white"
           }
          },
          "shapedefaults": {
           "line": {
            "color": "#2a3f5f"
           }
          },
          "ternary": {
           "aaxis": {
            "gridcolor": "white",
            "linecolor": "white",
            "ticks": ""
           },
           "baxis": {
            "gridcolor": "white",
            "linecolor": "white",
            "ticks": ""
           },
           "bgcolor": "#E5ECF6",
           "caxis": {
            "gridcolor": "white",
            "linecolor": "white",
            "ticks": ""
           }
          },
          "title": {
           "x": 0.05
          },
          "xaxis": {
           "automargin": true,
           "gridcolor": "white",
           "linecolor": "white",
           "ticks": "",
           "title": {
            "standoff": 15
           },
           "zerolinecolor": "white",
           "zerolinewidth": 2
          },
          "yaxis": {
           "automargin": true,
           "gridcolor": "white",
           "linecolor": "white",
           "ticks": "",
           "title": {
            "standoff": 15
           },
           "zerolinecolor": "white",
           "zerolinewidth": 2
          }
         }
        },
        "title": {
         "text": "Basic Sankey Diagram"
        }
       }
      }
     },
     "metadata": {},
     "output_type": "display_data"
    }
   ],
   "source": [
    "fig = make_sankey(\n",
    "    df, \n",
    "    entity='page_title_historical_escaped',\n",
    "    first_event='page_create',\n",
    "    # last_event=None,\n",
    "    # n_events=5,\n",
    "    # session_length=timedelta(hours=2),\n",
    "    # remove_bots=True,\n",
    "    # include_duplicates=True,\n",
    "    # ignore_list=[],\n",
    ")\n",
    "\n",
    "fig.show()"
   ]
  },
  {
   "cell_type": "code",
   "execution_count": null,
   "metadata": {},
   "outputs": [],
   "source": []
  },
  {
   "cell_type": "code",
   "execution_count": null,
   "metadata": {},
   "outputs": [],
   "source": []
  },
  {
   "cell_type": "code",
   "execution_count": 69,
   "metadata": {},
   "outputs": [],
   "source": [
    "key_events = df.loc[df['event_name'] == first_event, ['_session_id', '_rank']].groupby('_session_id', as_index=False).min()\n",
    "key_events['_key_event'] = 1\n"
   ]
  },
  {
   "cell_type": "code",
   "execution_count": 70,
   "metadata": {},
   "outputs": [],
   "source": [
    "rnk_increment = pd.DataFrame({'rank_increment': range(n_events)})"
   ]
  },
  {
   "cell_type": "code",
   "execution_count": 71,
   "metadata": {},
   "outputs": [],
   "source": [
    "selected_events = key_events.merge(rnk_increment, how='cross')"
   ]
  },
  {
   "cell_type": "code",
   "execution_count": 72,
   "metadata": {},
   "outputs": [],
   "source": [
    "selected_events['_rank'] = selected_events['_rank'] + selected_events['rank_increment']"
   ]
  },
  {
   "cell_type": "code",
   "execution_count": 75,
   "metadata": {},
   "outputs": [],
   "source": [
    "selected_events.drop(columns=['_key_event'], inplace=True)"
   ]
  },
  {
   "cell_type": "code",
   "execution_count": 73,
   "metadata": {},
   "outputs": [
    {
     "data": {
      "text/plain": [
       "Index(['event_name', 'event_timestamp', 'event_user_text_historical_escaped',\n",
       "       'event_user_is_bot_by_historical_string', 'event_user_revision_count',\n",
       "       'event_user_seconds_since_previous_revision', 'page_id',\n",
       "       'page_title_historical_escaped', 'page_revision_count',\n",
       "       'revision_text_bytes', 'revision_is_identity_reverted',\n",
       "       'revision_seconds_to_identity_revert', 'revision_tags_string', '_count',\n",
       "       '_coarse_dates', '_fine_dates', '_is_session_start', '_is_session_end',\n",
       "       '_session_id', '_rank'],\n",
       "      dtype='object')"
      ]
     },
     "execution_count": 73,
     "metadata": {},
     "output_type": "execute_result"
    }
   ],
   "source": [
    "df.columns"
   ]
  },
  {
   "cell_type": "code",
   "execution_count": 76,
   "metadata": {},
   "outputs": [
    {
     "data": {
      "text/plain": [
       "Index(['_session_id', '_rank', 'rank_increment'], dtype='object')"
      ]
     },
     "execution_count": 76,
     "metadata": {},
     "output_type": "execute_result"
    }
   ],
   "source": [
    "selected_events.columns"
   ]
  },
  {
   "cell_type": "code",
   "execution_count": 77,
   "metadata": {},
   "outputs": [
    {
     "name": "stderr",
     "output_type": "stream",
     "text": [
      "/tmp/ipykernel_273018/3263193288.py:1: FutureWarning: Passing 'suffixes' as a <class 'NoneType'>, is not supported and may give unexpected results. Provide 'suffixes' as a tuple instead. In the future a 'TypeError' will be raised.\n",
      "  events_to_plot = df.merge(selected_events, on=['_session_id', '_rank'], how='inner', suffixes=None)\n"
     ]
    }
   ],
   "source": [
    "events_to_plot = df.merge(selected_events, on=['_session_id', '_rank'], how='inner', suffixes=None)"
   ]
  },
  {
   "cell_type": "code",
   "execution_count": 143,
   "metadata": {},
   "outputs": [],
   "source": [
    "final_df = events_to_plot[['_session_id', ex.event_name_col, 'rank_increment']]\n",
    "\n",
    "paired_events = pd.concat([\n",
    "    final_df, \n",
    "    final_df\n",
    "    .shift(-1)\n",
    "    .rename(columns={'_session_id': 'next_session_id', ex.event_name_col: f'next_{ex.event_name_col}', 'rank_increment': 'next_rank_increment'})\n",
    "    ], axis=1\n",
    ")\n",
    "to_plot = (\n",
    "    paired_events[paired_events['_session_id'] == paired_events['next_session_id']]\n",
    "    [['rank_increment', ex.event_name_col, f'next_{ex.event_name_col}', 'next_rank_increment']]\n",
    "    .groupby(['rank_increment', ex.event_name_col, f'next_{ex.event_name_col}'], as_index=False)\n",
    "    .count()\n",
    "    .rename(columns={'next_rank_increment': 'count'})\n",
    ")\n",
    "\n",
    "to_plot['source'] = to_plot['rank_increment'].astype(str) + '_' + to_plot['event_name']\n",
    "to_plot['target'] = (to_plot['rank_increment'] + 1).astype(str) + '_' + to_plot['next_event_name']"
   ]
  },
  {
   "cell_type": "code",
   "execution_count": 144,
   "metadata": {},
   "outputs": [],
   "source": [
    "nodes = set(to_plot['source']).union(to_plot['target'])\n",
    "node_ind_dict = {k:v for k, v in zip(nodes, range(len(nodes)))}\n",
    "to_plot_indices = to_plot[['source', 'target', 'count']].replace(node_ind_dict)"
   ]
  },
  {
   "cell_type": "code",
   "execution_count": 145,
   "metadata": {},
   "outputs": [],
   "source": []
  },
  {
   "cell_type": "code",
   "execution_count": 147,
   "metadata": {},
   "outputs": [],
   "source": [
    " # TODO: no page_merge?"
   ]
  },
  {
   "cell_type": "code",
   "execution_count": 149,
   "metadata": {},
   "outputs": [
    {
     "data": {
      "application/vnd.plotly.v1+json": {
       "config": {
        "plotlyServerURL": "https://plot.ly"
       },
       "data": [
        {
         "link": {
          "source": [
           2,
           2,
           2,
           2,
           2,
           18,
           18,
           18,
           18,
           4,
           4,
           4,
           4,
           4,
           12,
           12,
           12,
           12,
           10,
           13,
           13,
           13,
           13,
           14,
           14,
           14,
           14,
           5,
           5,
           5,
           5,
           0,
           0,
           0,
           0,
           0,
           17,
           17,
           17,
           17,
           20,
           20,
           20,
           20,
           6,
           6,
           6,
           6,
           6,
           16,
           16,
           16,
           16,
           8,
           15,
           15,
           15,
           15
          ],
          "target": [
           18,
           4,
           12,
           10,
           13,
           14,
           5,
           0,
           17,
           14,
           5,
           0,
           9,
           17,
           14,
           5,
           0,
           17,
           17,
           14,
           5,
           0,
           17,
           20,
           6,
           16,
           15,
           20,
           6,
           16,
           15,
           20,
           6,
           16,
           8,
           15,
           20,
           6,
           16,
           15,
           19,
           1,
           11,
           7,
           19,
           1,
           11,
           3,
           7,
           19,
           1,
           11,
           7,
           7,
           19,
           1,
           11,
           7
          ],
          "value": [
           212,
           87,
           1203,
           1,
           12101,
           8,
           1,
           13,
           626,
           3,
           3,
           18,
           1,
           48,
           6,
           28,
           2,
           680,
           2,
           881,
           57,
           578,
           2862,
           54,
           2,
           27,
           953,
           3,
           9,
           16,
           56,
           35,
           17,
           1,
           1,
           299,
           977,
           47,
           282,
           2507,
           64,
           3,
           55,
           735,
           3,
           8,
           17,
           1,
           42,
           46,
           12,
           4,
           146,
           1,
           776,
           31,
           159,
           2165
          ]
         },
         "node": {
          "color": "purple",
          "label": [
           "2_page_move",
           "4_page_delete",
           "0_page_create",
           "4_page_restore",
           "1_page_delete",
           "2_page_delete",
           "3_page_delete",
           "4_revision_create",
           "3_page_restore",
           "2_page_restore",
           "1_page_restore",
           "4_page_move",
           "1_page_move",
           "1_revision_create",
           "2_page_create",
           "3_revision_create",
           "3_page_move",
           "2_revision_create",
           "1_page_create",
           "4_page_create",
           "3_page_create"
          ],
          "line": {
           "color": "blue",
           "width": 0.5
          },
          "pad": 15,
          "thickness": 20
         },
         "type": "sankey"
        }
       ],
       "layout": {
        "font": {
         "size": 10
        },
        "template": {
         "data": {
          "bar": [
           {
            "error_x": {
             "color": "#2a3f5f"
            },
            "error_y": {
             "color": "#2a3f5f"
            },
            "marker": {
             "line": {
              "color": "#E5ECF6",
              "width": 0.5
             },
             "pattern": {
              "fillmode": "overlay",
              "size": 10,
              "solidity": 0.2
             }
            },
            "type": "bar"
           }
          ],
          "barpolar": [
           {
            "marker": {
             "line": {
              "color": "#E5ECF6",
              "width": 0.5
             },
             "pattern": {
              "fillmode": "overlay",
              "size": 10,
              "solidity": 0.2
             }
            },
            "type": "barpolar"
           }
          ],
          "carpet": [
           {
            "aaxis": {
             "endlinecolor": "#2a3f5f",
             "gridcolor": "white",
             "linecolor": "white",
             "minorgridcolor": "white",
             "startlinecolor": "#2a3f5f"
            },
            "baxis": {
             "endlinecolor": "#2a3f5f",
             "gridcolor": "white",
             "linecolor": "white",
             "minorgridcolor": "white",
             "startlinecolor": "#2a3f5f"
            },
            "type": "carpet"
           }
          ],
          "choropleth": [
           {
            "colorbar": {
             "outlinewidth": 0,
             "ticks": ""
            },
            "type": "choropleth"
           }
          ],
          "contour": [
           {
            "colorbar": {
             "outlinewidth": 0,
             "ticks": ""
            },
            "colorscale": [
             [
              0,
              "#0d0887"
             ],
             [
              0.1111111111111111,
              "#46039f"
             ],
             [
              0.2222222222222222,
              "#7201a8"
             ],
             [
              0.3333333333333333,
              "#9c179e"
             ],
             [
              0.4444444444444444,
              "#bd3786"
             ],
             [
              0.5555555555555556,
              "#d8576b"
             ],
             [
              0.6666666666666666,
              "#ed7953"
             ],
             [
              0.7777777777777778,
              "#fb9f3a"
             ],
             [
              0.8888888888888888,
              "#fdca26"
             ],
             [
              1,
              "#f0f921"
             ]
            ],
            "type": "contour"
           }
          ],
          "contourcarpet": [
           {
            "colorbar": {
             "outlinewidth": 0,
             "ticks": ""
            },
            "type": "contourcarpet"
           }
          ],
          "heatmap": [
           {
            "colorbar": {
             "outlinewidth": 0,
             "ticks": ""
            },
            "colorscale": [
             [
              0,
              "#0d0887"
             ],
             [
              0.1111111111111111,
              "#46039f"
             ],
             [
              0.2222222222222222,
              "#7201a8"
             ],
             [
              0.3333333333333333,
              "#9c179e"
             ],
             [
              0.4444444444444444,
              "#bd3786"
             ],
             [
              0.5555555555555556,
              "#d8576b"
             ],
             [
              0.6666666666666666,
              "#ed7953"
             ],
             [
              0.7777777777777778,
              "#fb9f3a"
             ],
             [
              0.8888888888888888,
              "#fdca26"
             ],
             [
              1,
              "#f0f921"
             ]
            ],
            "type": "heatmap"
           }
          ],
          "heatmapgl": [
           {
            "colorbar": {
             "outlinewidth": 0,
             "ticks": ""
            },
            "colorscale": [
             [
              0,
              "#0d0887"
             ],
             [
              0.1111111111111111,
              "#46039f"
             ],
             [
              0.2222222222222222,
              "#7201a8"
             ],
             [
              0.3333333333333333,
              "#9c179e"
             ],
             [
              0.4444444444444444,
              "#bd3786"
             ],
             [
              0.5555555555555556,
              "#d8576b"
             ],
             [
              0.6666666666666666,
              "#ed7953"
             ],
             [
              0.7777777777777778,
              "#fb9f3a"
             ],
             [
              0.8888888888888888,
              "#fdca26"
             ],
             [
              1,
              "#f0f921"
             ]
            ],
            "type": "heatmapgl"
           }
          ],
          "histogram": [
           {
            "marker": {
             "pattern": {
              "fillmode": "overlay",
              "size": 10,
              "solidity": 0.2
             }
            },
            "type": "histogram"
           }
          ],
          "histogram2d": [
           {
            "colorbar": {
             "outlinewidth": 0,
             "ticks": ""
            },
            "colorscale": [
             [
              0,
              "#0d0887"
             ],
             [
              0.1111111111111111,
              "#46039f"
             ],
             [
              0.2222222222222222,
              "#7201a8"
             ],
             [
              0.3333333333333333,
              "#9c179e"
             ],
             [
              0.4444444444444444,
              "#bd3786"
             ],
             [
              0.5555555555555556,
              "#d8576b"
             ],
             [
              0.6666666666666666,
              "#ed7953"
             ],
             [
              0.7777777777777778,
              "#fb9f3a"
             ],
             [
              0.8888888888888888,
              "#fdca26"
             ],
             [
              1,
              "#f0f921"
             ]
            ],
            "type": "histogram2d"
           }
          ],
          "histogram2dcontour": [
           {
            "colorbar": {
             "outlinewidth": 0,
             "ticks": ""
            },
            "colorscale": [
             [
              0,
              "#0d0887"
             ],
             [
              0.1111111111111111,
              "#46039f"
             ],
             [
              0.2222222222222222,
              "#7201a8"
             ],
             [
              0.3333333333333333,
              "#9c179e"
             ],
             [
              0.4444444444444444,
              "#bd3786"
             ],
             [
              0.5555555555555556,
              "#d8576b"
             ],
             [
              0.6666666666666666,
              "#ed7953"
             ],
             [
              0.7777777777777778,
              "#fb9f3a"
             ],
             [
              0.8888888888888888,
              "#fdca26"
             ],
             [
              1,
              "#f0f921"
             ]
            ],
            "type": "histogram2dcontour"
           }
          ],
          "mesh3d": [
           {
            "colorbar": {
             "outlinewidth": 0,
             "ticks": ""
            },
            "type": "mesh3d"
           }
          ],
          "parcoords": [
           {
            "line": {
             "colorbar": {
              "outlinewidth": 0,
              "ticks": ""
             }
            },
            "type": "parcoords"
           }
          ],
          "pie": [
           {
            "automargin": true,
            "type": "pie"
           }
          ],
          "scatter": [
           {
            "fillpattern": {
             "fillmode": "overlay",
             "size": 10,
             "solidity": 0.2
            },
            "type": "scatter"
           }
          ],
          "scatter3d": [
           {
            "line": {
             "colorbar": {
              "outlinewidth": 0,
              "ticks": ""
             }
            },
            "marker": {
             "colorbar": {
              "outlinewidth": 0,
              "ticks": ""
             }
            },
            "type": "scatter3d"
           }
          ],
          "scattercarpet": [
           {
            "marker": {
             "colorbar": {
              "outlinewidth": 0,
              "ticks": ""
             }
            },
            "type": "scattercarpet"
           }
          ],
          "scattergeo": [
           {
            "marker": {
             "colorbar": {
              "outlinewidth": 0,
              "ticks": ""
             }
            },
            "type": "scattergeo"
           }
          ],
          "scattergl": [
           {
            "marker": {
             "colorbar": {
              "outlinewidth": 0,
              "ticks": ""
             }
            },
            "type": "scattergl"
           }
          ],
          "scattermapbox": [
           {
            "marker": {
             "colorbar": {
              "outlinewidth": 0,
              "ticks": ""
             }
            },
            "type": "scattermapbox"
           }
          ],
          "scatterpolar": [
           {
            "marker": {
             "colorbar": {
              "outlinewidth": 0,
              "ticks": ""
             }
            },
            "type": "scatterpolar"
           }
          ],
          "scatterpolargl": [
           {
            "marker": {
             "colorbar": {
              "outlinewidth": 0,
              "ticks": ""
             }
            },
            "type": "scatterpolargl"
           }
          ],
          "scatterternary": [
           {
            "marker": {
             "colorbar": {
              "outlinewidth": 0,
              "ticks": ""
             }
            },
            "type": "scatterternary"
           }
          ],
          "surface": [
           {
            "colorbar": {
             "outlinewidth": 0,
             "ticks": ""
            },
            "colorscale": [
             [
              0,
              "#0d0887"
             ],
             [
              0.1111111111111111,
              "#46039f"
             ],
             [
              0.2222222222222222,
              "#7201a8"
             ],
             [
              0.3333333333333333,
              "#9c179e"
             ],
             [
              0.4444444444444444,
              "#bd3786"
             ],
             [
              0.5555555555555556,
              "#d8576b"
             ],
             [
              0.6666666666666666,
              "#ed7953"
             ],
             [
              0.7777777777777778,
              "#fb9f3a"
             ],
             [
              0.8888888888888888,
              "#fdca26"
             ],
             [
              1,
              "#f0f921"
             ]
            ],
            "type": "surface"
           }
          ],
          "table": [
           {
            "cells": {
             "fill": {
              "color": "#EBF0F8"
             },
             "line": {
              "color": "white"
             }
            },
            "header": {
             "fill": {
              "color": "#C8D4E3"
             },
             "line": {
              "color": "white"
             }
            },
            "type": "table"
           }
          ]
         },
         "layout": {
          "annotationdefaults": {
           "arrowcolor": "#2a3f5f",
           "arrowhead": 0,
           "arrowwidth": 1
          },
          "autotypenumbers": "strict",
          "coloraxis": {
           "colorbar": {
            "outlinewidth": 0,
            "ticks": ""
           }
          },
          "colorscale": {
           "diverging": [
            [
             0,
             "#8e0152"
            ],
            [
             0.1,
             "#c51b7d"
            ],
            [
             0.2,
             "#de77ae"
            ],
            [
             0.3,
             "#f1b6da"
            ],
            [
             0.4,
             "#fde0ef"
            ],
            [
             0.5,
             "#f7f7f7"
            ],
            [
             0.6,
             "#e6f5d0"
            ],
            [
             0.7,
             "#b8e186"
            ],
            [
             0.8,
             "#7fbc41"
            ],
            [
             0.9,
             "#4d9221"
            ],
            [
             1,
             "#276419"
            ]
           ],
           "sequential": [
            [
             0,
             "#0d0887"
            ],
            [
             0.1111111111111111,
             "#46039f"
            ],
            [
             0.2222222222222222,
             "#7201a8"
            ],
            [
             0.3333333333333333,
             "#9c179e"
            ],
            [
             0.4444444444444444,
             "#bd3786"
            ],
            [
             0.5555555555555556,
             "#d8576b"
            ],
            [
             0.6666666666666666,
             "#ed7953"
            ],
            [
             0.7777777777777778,
             "#fb9f3a"
            ],
            [
             0.8888888888888888,
             "#fdca26"
            ],
            [
             1,
             "#f0f921"
            ]
           ],
           "sequentialminus": [
            [
             0,
             "#0d0887"
            ],
            [
             0.1111111111111111,
             "#46039f"
            ],
            [
             0.2222222222222222,
             "#7201a8"
            ],
            [
             0.3333333333333333,
             "#9c179e"
            ],
            [
             0.4444444444444444,
             "#bd3786"
            ],
            [
             0.5555555555555556,
             "#d8576b"
            ],
            [
             0.6666666666666666,
             "#ed7953"
            ],
            [
             0.7777777777777778,
             "#fb9f3a"
            ],
            [
             0.8888888888888888,
             "#fdca26"
            ],
            [
             1,
             "#f0f921"
            ]
           ]
          },
          "colorway": [
           "#636efa",
           "#EF553B",
           "#00cc96",
           "#ab63fa",
           "#FFA15A",
           "#19d3f3",
           "#FF6692",
           "#B6E880",
           "#FF97FF",
           "#FECB52"
          ],
          "font": {
           "color": "#2a3f5f"
          },
          "geo": {
           "bgcolor": "white",
           "lakecolor": "white",
           "landcolor": "#E5ECF6",
           "showlakes": true,
           "showland": true,
           "subunitcolor": "white"
          },
          "hoverlabel": {
           "align": "left"
          },
          "hovermode": "closest",
          "mapbox": {
           "style": "light"
          },
          "paper_bgcolor": "white",
          "plot_bgcolor": "#E5ECF6",
          "polar": {
           "angularaxis": {
            "gridcolor": "white",
            "linecolor": "white",
            "ticks": ""
           },
           "bgcolor": "#E5ECF6",
           "radialaxis": {
            "gridcolor": "white",
            "linecolor": "white",
            "ticks": ""
           }
          },
          "scene": {
           "xaxis": {
            "backgroundcolor": "#E5ECF6",
            "gridcolor": "white",
            "gridwidth": 2,
            "linecolor": "white",
            "showbackground": true,
            "ticks": "",
            "zerolinecolor": "white"
           },
           "yaxis": {
            "backgroundcolor": "#E5ECF6",
            "gridcolor": "white",
            "gridwidth": 2,
            "linecolor": "white",
            "showbackground": true,
            "ticks": "",
            "zerolinecolor": "white"
           },
           "zaxis": {
            "backgroundcolor": "#E5ECF6",
            "gridcolor": "white",
            "gridwidth": 2,
            "linecolor": "white",
            "showbackground": true,
            "ticks": "",
            "zerolinecolor": "white"
           }
          },
          "shapedefaults": {
           "line": {
            "color": "#2a3f5f"
           }
          },
          "ternary": {
           "aaxis": {
            "gridcolor": "white",
            "linecolor": "white",
            "ticks": ""
           },
           "baxis": {
            "gridcolor": "white",
            "linecolor": "white",
            "ticks": ""
           },
           "bgcolor": "#E5ECF6",
           "caxis": {
            "gridcolor": "white",
            "linecolor": "white",
            "ticks": ""
           }
          },
          "title": {
           "x": 0.05
          },
          "xaxis": {
           "automargin": true,
           "gridcolor": "white",
           "linecolor": "white",
           "ticks": "",
           "title": {
            "standoff": 15
           },
           "zerolinecolor": "white",
           "zerolinewidth": 2
          },
          "yaxis": {
           "automargin": true,
           "gridcolor": "white",
           "linecolor": "white",
           "ticks": "",
           "title": {
            "standoff": 15
           },
           "zerolinecolor": "white",
           "zerolinewidth": 2
          }
         }
        },
        "title": {
         "text": "Basic Sankey Diagram"
        }
       }
      }
     },
     "metadata": {},
     "output_type": "display_data"
    }
   ],
   "source": [
    "flow = go.Sankey(\n",
    "    node=dict(\n",
    "        pad = 15,\n",
    "        thickness = 20,\n",
    "        line = dict(color = 'blue', width = 0.5),\n",
    "        label = list(node_ind_dict.keys()),\n",
    "        color = 'purple'\n",
    "    ),\n",
    "    link=dict(\n",
    "        source = to_plot_indices['source'].to_list(),  \n",
    "        target = to_plot_indices['target'].to_list(),\n",
    "        value = to_plot_indices['count'].to_list()\n",
    "))\n",
    "\n",
    "fig = go.Figure()\n",
    "fig.add_trace(flow)\n",
    "fig.update_layout(title_text=\"Basic Sankey Diagram\", font_size=10)\n",
    "fig.show()"
   ]
  },
  {
   "cell_type": "code",
   "execution_count": 25,
   "metadata": {},
   "outputs": [],
   "source": [
    "def _add_sessions(self, df, entity, session_length):\n",
    "    session_id_col = '_session_id' # this could be more efficient for non-sessionization\n",
    "    df.sort_values([entity,  self.event_time_col], inplace=True)\n",
    "    df['timediff'] = (\n",
    "        df\n",
    "        .groupby(entity)[self.event_time_col]\n",
    "        .diff()  # TODO: can I change the shift logic below to work more like this?\n",
    "    )\n",
    "    df['_is_session_start'] = (df['timediff'].isna() | (df['timediff'] > session_length))\n",
    "    df.drop(columns=['timediff'], inplace=True)\n",
    "    df['_is_session_end'] = df[['_is_session_start']].shift(-1)\n",
    "    df[session_id_col] = df['_is_session_start'].cumsum()\n",
    "    df['_rank'] = df.groupby(session_id_col)[self.event_time_col].rank(method='first')\n",
    "    return df"
   ]
  },
  {
   "cell_type": "code",
   "execution_count": 26,
   "metadata": {},
   "outputs": [],
   "source": [
    "df = _add_sessions(ex, df, entity, session_length)"
   ]
  },
  {
   "cell_type": "code",
   "execution_count": 21,
   "metadata": {},
   "outputs": [],
   "source": [
    "df.drop(columns=['_is_session_start', '_is_session_end', '_session_id', '_rank'], inplace=True)"
   ]
  },
  {
   "cell_type": "code",
   "execution_count": null,
   "metadata": {},
   "outputs": [],
   "source": [
    "b"
   ]
  },
  {
   "cell_type": "code",
   "execution_count": null,
   "metadata": {},
   "outputs": [],
   "source": []
  },
  {
   "cell_type": "code",
   "execution_count": 63,
   "metadata": {},
   "outputs": [],
   "source": [
    "def _add_sessions(self, df, entity, session_length):\n",
    "        session_id_col = '_session_id' # this could be more efficient for non-sessionization\n",
    "        df.sort_values([entity,  self.event_time_col], inplace=True)\n",
    "        df['timediff'] = (\n",
    "            df\n",
    "            .groupby(entity)[self.event_time_col]\n",
    "            .diff()  # TODO: can I change the shift logic below to work more like this?\n",
    "        )\n",
    "        df['_is_session_start'] = (df['timediff'].isna() | (df['timediff'] > session_length))\n",
    "        df.drop(columns=['timediff'], inplace=True)\n",
    "        df['_is_session_end'] = df[['_is_session_start']].shift(-1)\n",
    "        df[session_id_col] = df['_is_session_start'].cumsum()\n",
    "        df['_rank'] = df.groupby(session_id_col)[self.event_time_col].rank(method='first')\n",
    "        return df"
   ]
  },
  {
   "cell_type": "code",
   "execution_count": 74,
   "metadata": {},
   "outputs": [],
   "source": [
    "df = pd.read_parquet('../data/movielens.parquet')"
   ]
  },
  {
   "cell_type": "code",
   "execution_count": 75,
   "metadata": {},
   "outputs": [],
   "source": [
    "ex = EventExplorer(\n",
    "    event_data=df,\n",
    "    event_name_col='rating',\n",
    "    event_time_col='timestamp',\n",
    "    coarse_grain=timedelta(days=365),\n",
    "    fine_grain='d',\n",
    ")"
   ]
  },
  {
   "cell_type": "code",
   "execution_count": 76,
   "metadata": {},
   "outputs": [],
   "source": [
    "ex.event_name_col = 'primary_genre'"
   ]
  },
  {
   "cell_type": "code",
   "execution_count": 77,
   "metadata": {},
   "outputs": [],
   "source": [
    "entity='userId'\n",
    "first_event='Drama'\n",
    "last_event=None\n",
    "n_events=5\n",
    "session_length=timedelta(days=365*30)\n",
    "ignore_list=[]\n",
    "\n",
    "\n",
    "# check params\n",
    "if first_event is not None and last_event is not None:\n",
    "    raise ValueError('pass in either first or last event, not both')\n",
    "\n",
    "if first_event is None and last_event is None:\n",
    "    raise ValueError('either first or last event is required')\n",
    "\n",
    "if first_event is not None:\n",
    "    key_event = first_event\n",
    "    shift_direction = 1\n",
    "\n",
    "if last_event is not None:\n",
    "    raise(NotImplementedError)\n",
    "    key_event = last_event\n",
    "    shift_direction = -1\n",
    "\n",
    "\n",
    "# initial filtering\n",
    "if not include_duplicates:\n",
    "    raise NotImplementedError\n",
    "\n",
    "if len(ignore_list) > 0:\n",
    "    df = df.loc[df[ex.event_name_col].isin(set(ex.event_names) - set(ignore_list)), :] # remove ignored event types\n",
    "\n"
   ]
  },
  {
   "cell_type": "code",
   "execution_count": 78,
   "metadata": {},
   "outputs": [],
   "source": [
    "\n",
    "# build sessions\n",
    "df = _add_sessions(ex, df, entity, session_length)\n"
   ]
  },
  {
   "cell_type": "code",
   "execution_count": 79,
   "metadata": {},
   "outputs": [
    {
     "data": {
      "text/html": [
       "<div>\n",
       "<style scoped>\n",
       "    .dataframe tbody tr th:only-of-type {\n",
       "        vertical-align: middle;\n",
       "    }\n",
       "\n",
       "    .dataframe tbody tr th {\n",
       "        vertical-align: top;\n",
       "    }\n",
       "\n",
       "    .dataframe thead th {\n",
       "        text-align: right;\n",
       "    }\n",
       "</style>\n",
       "<table border=\"1\" class=\"dataframe\">\n",
       "  <thead>\n",
       "    <tr style=\"text-align: right;\">\n",
       "      <th></th>\n",
       "      <th>userId</th>\n",
       "      <th>movieId</th>\n",
       "      <th>rating</th>\n",
       "      <th>timestamp</th>\n",
       "      <th>title</th>\n",
       "      <th>genres</th>\n",
       "      <th>primary_genre</th>\n",
       "      <th>_count</th>\n",
       "      <th>_coarse_dates</th>\n",
       "      <th>_fine_dates</th>\n",
       "      <th>_is_session_start</th>\n",
       "      <th>_is_session_end</th>\n",
       "      <th>_session_id</th>\n",
       "      <th>_rank</th>\n",
       "    </tr>\n",
       "  </thead>\n",
       "  <tbody>\n",
       "    <tr>\n",
       "      <th>350481</th>\n",
       "      <td>1</td>\n",
       "      <td>5952</td>\n",
       "      <td>4.0</td>\n",
       "      <td>2006-05-17 12:14:13</td>\n",
       "      <td>Lord of the Rings: The Two Towers, The (2002)</td>\n",
       "      <td>Adventure|Fantasy</td>\n",
       "      <td>Adventure</td>\n",
       "      <td>1</td>\n",
       "      <td>2005-12-23</td>\n",
       "      <td>2006-05-17</td>\n",
       "      <td>True</td>\n",
       "      <td>False</td>\n",
       "      <td>1</td>\n",
       "      <td>1.0</td>\n",
       "    </tr>\n",
       "    <tr>\n",
       "      <th>197179</th>\n",
       "      <td>1</td>\n",
       "      <td>2012</td>\n",
       "      <td>2.5</td>\n",
       "      <td>2006-05-17 12:14:28</td>\n",
       "      <td>Back to the Future Part III (1990)</td>\n",
       "      <td>Adventure|Comedy|Sci-Fi|Western</td>\n",
       "      <td>Comedy</td>\n",
       "      <td>1</td>\n",
       "      <td>2005-12-23</td>\n",
       "      <td>2006-05-17</td>\n",
       "      <td>False</td>\n",
       "      <td>False</td>\n",
       "      <td>1</td>\n",
       "      <td>2.0</td>\n",
       "    </tr>\n",
       "    <tr>\n",
       "      <th>174189</th>\n",
       "      <td>1</td>\n",
       "      <td>2011</td>\n",
       "      <td>2.5</td>\n",
       "      <td>2006-05-17 12:14:39</td>\n",
       "      <td>Back to the Future Part II (1989)</td>\n",
       "      <td>Adventure|Comedy|Sci-Fi</td>\n",
       "      <td>Sci-Fi</td>\n",
       "      <td>1</td>\n",
       "      <td>2005-12-23</td>\n",
       "      <td>2006-05-17</td>\n",
       "      <td>False</td>\n",
       "      <td>False</td>\n",
       "      <td>1</td>\n",
       "      <td>3.0</td>\n",
       "    </tr>\n",
       "    <tr>\n",
       "      <th>152299</th>\n",
       "      <td>1</td>\n",
       "      <td>1653</td>\n",
       "      <td>4.0</td>\n",
       "      <td>2006-05-17 12:14:57</td>\n",
       "      <td>Gattaca (1997)</td>\n",
       "      <td>Drama|Sci-Fi|Thriller</td>\n",
       "      <td>Sci-Fi</td>\n",
       "      <td>1</td>\n",
       "      <td>2005-12-23</td>\n",
       "      <td>2006-05-17</td>\n",
       "      <td>False</td>\n",
       "      <td>False</td>\n",
       "      <td>1</td>\n",
       "      <td>4.0</td>\n",
       "    </tr>\n",
       "    <tr>\n",
       "      <th>135029</th>\n",
       "      <td>1</td>\n",
       "      <td>1250</td>\n",
       "      <td>4.0</td>\n",
       "      <td>2006-05-17 12:20:14</td>\n",
       "      <td>Bridge on the River Kwai, The (1957)</td>\n",
       "      <td>Adventure|Drama|War</td>\n",
       "      <td>Drama</td>\n",
       "      <td>1</td>\n",
       "      <td>2005-12-23</td>\n",
       "      <td>2006-05-17</td>\n",
       "      <td>False</td>\n",
       "      <td>False</td>\n",
       "      <td>1</td>\n",
       "      <td>5.0</td>\n",
       "    </tr>\n",
       "  </tbody>\n",
       "</table>\n",
       "</div>"
      ],
      "text/plain": [
       "        userId  movieId  rating           timestamp  \\\n",
       "350481       1     5952     4.0 2006-05-17 12:14:13   \n",
       "197179       1     2012     2.5 2006-05-17 12:14:28   \n",
       "174189       1     2011     2.5 2006-05-17 12:14:39   \n",
       "152299       1     1653     4.0 2006-05-17 12:14:57   \n",
       "135029       1     1250     4.0 2006-05-17 12:20:14   \n",
       "\n",
       "                                                title  \\\n",
       "350481  Lord of the Rings: The Two Towers, The (2002)   \n",
       "197179             Back to the Future Part III (1990)   \n",
       "174189              Back to the Future Part II (1989)   \n",
       "152299                                 Gattaca (1997)   \n",
       "135029           Bridge on the River Kwai, The (1957)   \n",
       "\n",
       "                                 genres primary_genre  _count _coarse_dates  \\\n",
       "350481                Adventure|Fantasy     Adventure       1    2005-12-23   \n",
       "197179  Adventure|Comedy|Sci-Fi|Western        Comedy       1    2005-12-23   \n",
       "174189          Adventure|Comedy|Sci-Fi        Sci-Fi       1    2005-12-23   \n",
       "152299            Drama|Sci-Fi|Thriller        Sci-Fi       1    2005-12-23   \n",
       "135029              Adventure|Drama|War         Drama       1    2005-12-23   \n",
       "\n",
       "       _fine_dates  _is_session_start _is_session_end  _session_id  _rank  \n",
       "350481  2006-05-17               True           False            1    1.0  \n",
       "197179  2006-05-17              False           False            1    2.0  \n",
       "174189  2006-05-17              False           False            1    3.0  \n",
       "152299  2006-05-17              False           False            1    4.0  \n",
       "135029  2006-05-17              False           False            1    5.0  "
      ]
     },
     "execution_count": 79,
     "metadata": {},
     "output_type": "execute_result"
    }
   ],
   "source": [
    "df.head()"
   ]
  },
  {
   "cell_type": "code",
   "execution_count": 80,
   "metadata": {},
   "outputs": [
    {
     "name": "stderr",
     "output_type": "stream",
     "text": [
      "/tmp/ipykernel_476333/3693639843.py:9: FutureWarning: Passing 'suffixes' as a <class 'NoneType'>, is not supported and may give unexpected results. Provide 'suffixes' as a tuple instead. In the future a 'TypeError' will be raised.\n",
      "  events_to_plot = df.merge(selected_events, on=[session_id_col, '_rank'], how='inner', suffixes=None)\n"
     ]
    }
   ],
   "source": [
    "\n",
    "# select events to include\n",
    "session_id_col = '_session_id' # TODO: consolidate this var\n",
    "key_events = df.loc[df[ex.event_name_col] == key_event, [session_id_col, '_rank']].groupby(session_id_col, as_index=False).min()\n",
    "key_events['_key_event'] = 1\n",
    "rnk_increment = pd.DataFrame({'rank_increment': range(n_events)})\n",
    "selected_events = key_events.merge(rnk_increment, how='cross')\n",
    "selected_events['_rank'] = selected_events['_rank'] + selected_events['rank_increment']\n",
    "selected_events.drop(columns=['_key_event'], inplace=True)\n",
    "events_to_plot = df.merge(selected_events, on=[session_id_col, '_rank'], how='inner', suffixes=None)\n",
    "\n"
   ]
  },
  {
   "cell_type": "code",
   "execution_count": 81,
   "metadata": {},
   "outputs": [],
   "source": [
    "\n",
    "# format events for plotting\n",
    "\n",
    "final_df = events_to_plot[[session_id_col, ex.event_name_col, 'rank_increment']]\n",
    "\n",
    "paired_events = pd.concat([\n",
    "    final_df, \n",
    "    final_df\n",
    "    .shift(-1 * shift_direction)\n",
    "    .rename(columns={session_id_col: 'next_session_id', ex.event_name_col: f'next_{ex.event_name_col}', 'rank_increment': 'next_rank_increment'})\n",
    "    ], axis=1\n",
    ")\n",
    "to_plot = (\n",
    "    paired_events[paired_events[session_id_col] == paired_events[session_id_col]]\n",
    "    [['rank_increment', ex.event_name_col, f'next_{ex.event_name_col}', 'next_rank_increment']]\n",
    "    .groupby(['rank_increment', ex.event_name_col, f'next_{ex.event_name_col}'], as_index=False)\n",
    "    .count()\n",
    "    .rename(columns={'next_rank_increment': 'count'})\n",
    ")\n"
   ]
  },
  {
   "cell_type": "code",
   "execution_count": 87,
   "metadata": {},
   "outputs": [
    {
     "data": {
      "text/html": [
       "<div>\n",
       "<style scoped>\n",
       "    .dataframe tbody tr th:only-of-type {\n",
       "        vertical-align: middle;\n",
       "    }\n",
       "\n",
       "    .dataframe tbody tr th {\n",
       "        vertical-align: top;\n",
       "    }\n",
       "\n",
       "    .dataframe thead th {\n",
       "        text-align: right;\n",
       "    }\n",
       "</style>\n",
       "<table border=\"1\" class=\"dataframe\">\n",
       "  <thead>\n",
       "    <tr style=\"text-align: right;\">\n",
       "      <th></th>\n",
       "      <th>rank_increment</th>\n",
       "      <th>primary_genre</th>\n",
       "      <th>next_primary_genre</th>\n",
       "      <th>count</th>\n",
       "    </tr>\n",
       "  </thead>\n",
       "  <tbody>\n",
       "    <tr>\n",
       "      <th>0</th>\n",
       "      <td>0</td>\n",
       "      <td>Drama</td>\n",
       "      <td>(no genres listed)</td>\n",
       "      <td>44</td>\n",
       "    </tr>\n",
       "    <tr>\n",
       "      <th>1</th>\n",
       "      <td>0</td>\n",
       "      <td>Drama</td>\n",
       "      <td>Action</td>\n",
       "      <td>14927</td>\n",
       "    </tr>\n",
       "    <tr>\n",
       "      <th>2</th>\n",
       "      <td>0</td>\n",
       "      <td>Drama</td>\n",
       "      <td>Adventure</td>\n",
       "      <td>13501</td>\n",
       "    </tr>\n",
       "    <tr>\n",
       "      <th>3</th>\n",
       "      <td>0</td>\n",
       "      <td>Drama</td>\n",
       "      <td>Animation</td>\n",
       "      <td>1867</td>\n",
       "    </tr>\n",
       "    <tr>\n",
       "      <th>4</th>\n",
       "      <td>0</td>\n",
       "      <td>Drama</td>\n",
       "      <td>Children</td>\n",
       "      <td>3741</td>\n",
       "    </tr>\n",
       "  </tbody>\n",
       "</table>\n",
       "</div>"
      ],
      "text/plain": [
       "   rank_increment primary_genre  next_primary_genre  count\n",
       "0               0         Drama  (no genres listed)     44\n",
       "1               0         Drama              Action  14927\n",
       "2               0         Drama           Adventure  13501\n",
       "3               0         Drama           Animation   1867\n",
       "4               0         Drama            Children   3741"
      ]
     },
     "execution_count": 87,
     "metadata": {},
     "output_type": "execute_result"
    }
   ],
   "source": [
    "to_plot.head()"
   ]
  },
  {
   "cell_type": "code",
   "execution_count": null,
   "metadata": {},
   "outputs": [],
   "source": [
    "# TODO: starting to figure out \"other\" category, but it isn't quite there"
   ]
  },
  {
   "cell_type": "code",
   "execution_count": 86,
   "metadata": {},
   "outputs": [
    {
     "ename": "AttributeError",
     "evalue": "'DataFrameGroupBy' object has no attribute 'loc'",
     "output_type": "error",
     "traceback": [
      "\u001b[0;31m---------------------------------------------------------------------------\u001b[0m",
      "\u001b[0;31mAttributeError\u001b[0m                            Traceback (most recent call last)",
      "Cell \u001b[0;32mIn[86], line 1\u001b[0m\n\u001b[0;32m----> 1\u001b[0m to_plot\u001b[39m.\u001b[39;49msort_values([\u001b[39m'\u001b[39;49m\u001b[39mrank_increment\u001b[39;49m\u001b[39m'\u001b[39;49m, \u001b[39m'\u001b[39;49m\u001b[39mcount\u001b[39;49m\u001b[39m'\u001b[39;49m])\u001b[39m.\u001b[39;49mgroupby(\u001b[39m'\u001b[39;49m\u001b[39mrank_increment\u001b[39;49m\u001b[39m'\u001b[39;49m)\u001b[39m.\u001b[39;49mloc[\u001b[39m0\u001b[39m:\u001b[39m5\u001b[39m, :]\n",
      "File \u001b[0;32m~/.pyenv/versions/3.9.15/envs/notebook/lib/python3.9/site-packages/pandas/core/groupby/groupby.py:981\u001b[0m, in \u001b[0;36mGroupBy.__getattr__\u001b[0;34m(self, attr)\u001b[0m\n\u001b[1;32m    978\u001b[0m \u001b[39mif\u001b[39;00m attr \u001b[39min\u001b[39;00m \u001b[39mself\u001b[39m\u001b[39m.\u001b[39mobj:\n\u001b[1;32m    979\u001b[0m     \u001b[39mreturn\u001b[39;00m \u001b[39mself\u001b[39m[attr]\n\u001b[0;32m--> 981\u001b[0m \u001b[39mraise\u001b[39;00m \u001b[39mAttributeError\u001b[39;00m(\n\u001b[1;32m    982\u001b[0m     \u001b[39mf\u001b[39m\u001b[39m\"\u001b[39m\u001b[39m'\u001b[39m\u001b[39m{\u001b[39;00m\u001b[39mtype\u001b[39m(\u001b[39mself\u001b[39m)\u001b[39m.\u001b[39m\u001b[39m__name__\u001b[39m\u001b[39m}\u001b[39;00m\u001b[39m'\u001b[39m\u001b[39m object has no attribute \u001b[39m\u001b[39m'\u001b[39m\u001b[39m{\u001b[39;00mattr\u001b[39m}\u001b[39;00m\u001b[39m'\u001b[39m\u001b[39m\"\u001b[39m\n\u001b[1;32m    983\u001b[0m )\n",
      "\u001b[0;31mAttributeError\u001b[0m: 'DataFrameGroupBy' object has no attribute 'loc'"
     ]
    }
   ],
   "source": [
    "groups = []\n",
    "for g in to_plot.sort_values(['rank_increment', 'count']).groupby('rank_increment'):\n",
    "    groups.append(g.loc[0:5, :])\n",
    "    other_count = pd.DataFrameag.loc[5:, 'count'].sum()\n",
    "    if other_count >0:\n",
    "        pd.DataFrame({\n",
    "            'rank_increment': g['rank_increment'].iloc[0],\n",
    "            entity: ,\n",
    "            f'next_{entity}': 'other'\n",
    "        })\n",
    "        groups.append(pd.DataFrameag.loc[5:, 'count'].sum())"
   ]
  },
  {
   "cell_type": "code",
   "execution_count": null,
   "metadata": {},
   "outputs": [],
   "source": [
    "\n",
    "to_plot['source'] = to_plot['rank_increment'].astype(str) + '_' + to_plot[self.event_name_col]\n",
    "to_plot['target'] = (to_plot['rank_increment'] + 1).astype(str) + '_' + to_plot[f'next_{self.event_name_col}']\n",
    "\n",
    "\n",
    "nodes = set(to_plot['source']).union(to_plot['target'])\n",
    "node_ind_dict = {k:v for k, v in zip(nodes, range(len(nodes)))}\n",
    "to_plot_indices = to_plot[['source', 'target', 'count']].replace(node_ind_dict)\n"
   ]
  },
  {
   "cell_type": "code",
   "execution_count": null,
   "metadata": {},
   "outputs": [],
   "source": [
    "\n",
    "\n",
    "# plot\n",
    "\n",
    "flow = go.Sankey(\n",
    "    node=dict(\n",
    "        pad = 15,\n",
    "        thickness = 20,\n",
    "        line = dict(color = 'blue', width = 0.5),\n",
    "        label = list(node_ind_dict.keys()),\n",
    "        color = 'purple'\n",
    "    ),\n",
    "    link=dict(\n",
    "        source = to_plot_indices['source'].to_list(),  \n",
    "        target = to_plot_indices['target'].to_list(),\n",
    "        value = to_plot_indices['count'].to_list()\n",
    "))\n",
    "\n",
    "fig = go.Figure()\n",
    "fig.add_trace(flow)\n",
    "fig.update_layout(title_text=\"Basic Sankey Diagram\", font_size=10)\n",
    "\n"
   ]
  },
  {
   "cell_type": "code",
   "execution_count": null,
   "metadata": {},
   "outputs": [],
   "source": []
  }
 ],
 "metadata": {
  "kernelspec": {
   "display_name": "notebook",
   "language": "python",
   "name": "python3"
  },
  "language_info": {
   "codemirror_mode": {
    "name": "ipython",
    "version": 3
   },
   "file_extension": ".py",
   "mimetype": "text/x-python",
   "name": "python",
   "nbconvert_exporter": "python",
   "pygments_lexer": "ipython3",
   "version": "3.9.15"
  },
  "orig_nbformat": 4,
  "vscode": {
   "interpreter": {
    "hash": "5591b857d22fde84dd106c0f937f96e9809b06da5e70c14c5455d88c30842814"
   }
  }
 },
 "nbformat": 4,
 "nbformat_minor": 2
}
